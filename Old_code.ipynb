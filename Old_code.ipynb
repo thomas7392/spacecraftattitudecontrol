{
 "cells": [
  {
   "cell_type": "code",
   "execution_count": 1,
   "id": "91148643-33f2-404f-af88-25d38dd4dcc5",
   "metadata": {},
   "outputs": [],
   "source": [
    "import numpy as np\n",
    "import matplotlib.pyplot as plt\n",
    "import scipy.integrate as integrate"
   ]
  },
  {
   "cell_type": "code",
   "execution_count": 2,
   "id": "f039526d-794a-4b4d-8207-bee359ab313d",
   "metadata": {},
   "outputs": [
    {
     "name": "stdout",
     "output_type": "stream",
     "text": [
      "5917.417835241439\n"
     ]
    }
   ],
   "source": [
    "# Initial states\n",
    "roll_0 = 5 # theta 1\n",
    "pitch_0 = 5 # theta 2\n",
    "yaw_0 = 5 # theta 3\n",
    "\n",
    "roll_deriv_0 = 0 # omega 1\n",
    "pitch_deriv_0 = 0 # omega 2\n",
    "yaw_deriv_0 = 0 # omega 3\n",
    "\n",
    "# Desired angles (reference angles)\n",
    "roll_reff = 0\n",
    "pitch_reff = 0\n",
    "yaw_reff = 0\n",
    "\n",
    "# Creater initial states\n",
    "initial_state = np.deg2rad(np.array([roll_0, \n",
    "                          pitch_0,\n",
    "                          yaw_0, \n",
    "                          roll_deriv_0, \n",
    "                          pitch_deriv_0,\n",
    "                          yaw_deriv_0]))\n",
    "\n",
    "# Data on spacecraft\n",
    "J = np.array([2700, 2300, 3000])\n",
    "disturbance_torque=np.array([0.001, 0.001, 0.001]) \n",
    "#disturbance_torque=np.array([0, 0, 0]) \n",
    "\n",
    "# Data on orbit\n",
    "mu = 3.986004418e14\n",
    "a = 6371e3 + 700e3\n",
    "period = 2 * np.pi * np.sqrt(a**3/mu)\n",
    "n = 2 * np.pi / period\n",
    "\n",
    "print(period)"
   ]
  },
  {
   "cell_type": "code",
   "execution_count": 3,
   "id": "5cfe0de7-e17c-4cab-b176-eb4b408cd9a8",
   "metadata": {},
   "outputs": [],
   "source": [
    "# Dynamics and Kinematics of the euler angles describing the rotation between the body fixed frame (b) and the local vertical/horizontal reference frame (a)\n",
    "def EoM(t, y, control_torque):\n",
    "    \n",
    "    deriv = np.zeros(6)\n",
    "    \n",
    "    M = np.array([[np.cos(y[1]), np.sin(y[0])*np.sin(y[1]),  np.cos(y[0])*np.sin(y[1])], \n",
    "                  [0,            np.cos(y[0])*np.cos(y[1]),  - np.sin(y[0]) * np.cos(y[1])], \n",
    "                  [0,            np.sin(y[0]),               np.cos(y[0])]])\n",
    "                   \n",
    "    # Kinetmatic differential equation\n",
    "    deriv[:3] = (1 / np.cos(y[1])) * M @ y[3:] + (n/np.cos(y[1])) * np.array([np.sin(y[2]), np.cos(y[1])*np.cos(y[2]), np.sin(y[1])*np.sin(y[2])])\n",
    "    \n",
    "    # Dynamic equations of motion\n",
    "    deriv[3] = J[0]**(-1.) * ((J[1] - J[2]) * y[4]*y[5] - 3 * n**2 * (J[1] - J[2]) * np.sin(y[0]) * np.cos(y[1]) * np.cos(y[0]) * np.cos(y[1]) + control_torque[0] + disturbance_torque[0])\n",
    "    deriv[4] = J[1]**(-1.) * ((J[2] - J[0]) * y[5]*y[3] + 3 * n**2 * (J[2] - J[0]) * np.cos(y[0]) * np.cos(y[1]) * np.sin(y[1]) + control_torque[1] + disturbance_torque[1])\n",
    "    deriv[5] = J[2]**(-1.) * ((J[0] - J[1]) * y[3]*y[4] + 3 * n**2 * (J[0] - J[1]) * np.sin(y[1]) * np.sin(y[0]) * np.cos(y[1]) + control_torque[2] + disturbance_torque[2])\n",
    "\n",
    "    return deriv"
   ]
  },
  {
   "cell_type": "code",
   "execution_count": 4,
   "id": "7ee28af0-ff34-445b-b58f-483fd4085400",
   "metadata": {},
   "outputs": [],
   "source": [
    "def PID(angle, integrated, derivative, p, i, d):\n",
    "    moment = p * angle + i * integrated + d * derivative\n",
    "    return moment"
   ]
  },
  {
   "cell_type": "code",
   "execution_count": 5,
   "id": "dec6d524-8e43-4d3e-abbf-9dc21cde2694",
   "metadata": {
    "tags": []
   },
   "outputs": [],
   "source": [
    "def simulate_attitude(termination_time = 300, \n",
    "            dt_control = 2, \n",
    "            p = [0, 0, 0],\n",
    "            i = [0., 0., 0],\n",
    "            d = [0., 0, 0], \n",
    "            gyro_bias = False, \n",
    "            attitude_noise = False, \n",
    "            state_estimation = False):\n",
    "    \n",
    "    # Prepare simulations\n",
    "    time = 0\n",
    "    control_torque = np.array([0, 0, 0])\n",
    "    state_history = np.array([np.concatenate((np.array([time]), initial_state))])\n",
    "    state_history_m = np.array([])\n",
    "    \n",
    "    # Control loop\n",
    "    while time < termination_time:\n",
    "\n",
    "        #==========================================\n",
    "        # Simulate the real dynamics\n",
    "        #==========================================\n",
    "        result = integrate.solve_ivp(EoM, (time, time + dt_control), \n",
    "                                     state_history[-1, 1:], \n",
    "                                     rtol = 1e-10, \n",
    "                                     atol = 1e-10,\n",
    "                                     args = [control_torque])\n",
    "\n",
    "        # Extract time and states except for initial state\n",
    "        states = result.y.T[1:]\n",
    "        times = result.t[1:]\n",
    "\n",
    "        # Store history\n",
    "        states_with_time = np.concatenate((times.reshape(-1, 1), states), axis = 1) \n",
    "        state_history = np.append(state_history, states_with_time, axis = 0) \n",
    "        \n",
    "        #==================================\n",
    "        # Simulate the measurements \n",
    "        # (with noise)\n",
    "        # TODO\n",
    "        #==================================\n",
    "        \n",
    "        if attitude_noise:\n",
    "            attitude_measurements = states[:,1:4\n",
    "        else:\n",
    "            attitude_measurements = state_history[\n",
    "        \n",
    "        if gyro_noise: \n",
    "            \n",
    "            #TODO\n",
    "            pass\n",
    "        else:\n",
    "            \n",
    "            pass\n",
    "        \n",
    "\n",
    "        #==================================\n",
    "        # State estimation (EKF)\n",
    "        # TODO\n",
    "        #==================================\n",
    "        \n",
    "        if state_estimation: \n",
    "            #TODO\n",
    "            pass\n",
    "\n",
    "        #==================================\n",
    "        # Control (PD)\n",
    "        #==================================\n",
    "        \n",
    "        # Extract proportional error\n",
    "        roll_error = 1 * (roll_reff - states[-1, 0] )\n",
    "        pitch_error = 1 * (pitch_reff - states[-1, 1])\n",
    "        yaw_error = 1 * ( yaw_reff - states[-1, 2])\n",
    "\n",
    "        # Extract derivative of error\n",
    "        roll_vel = -1 * EoM(0, state_history[-1,1:], [0, 0, 0])[0]\n",
    "        pitch_vel = -1 * EoM(0, state_history[-1,1:], [0, 0, 0])[1]\n",
    "        yaw_vel = -1 * EoM(0, state_history[-1,1:], [0, 0, 0])[2]\n",
    "\n",
    "        # Extract integration of error\n",
    "        roll_int = -1*integrate.trapezoid(result.y.T[:,0], x=result.t)\n",
    "        pitch_int = -1*integrate.trapezoid(result.y.T[:,1], x=result.t)\n",
    "        yaw_int = -1*integrate.trapezoid(result.y.T[:,2], x=result.t)\n",
    "\n",
    "        # roll_int = -1 *  integrate.trapezoid(state_history[:,1], x=state_history[:,0])\n",
    "        # pitch_int = -1 * integrate.trapezoid(state_history[:,2], x=state_history[:,0])\n",
    "        # yaw_int = -1 * integrate.trapezoid(state_history[:,3], x=state_history[:,0])\n",
    "\n",
    "        # Find the control torque \n",
    "        roll_moment = PID(roll_error, roll_int, roll_vel, p[0], i[0], d[0])\n",
    "        pitch_moment = PID(pitch_error, pitch_int, pitch_vel, p[1], i[1], d[1])\n",
    "        yaw_moment = PID(yaw_error, yaw_int, yaw_vel, p[2], i[2], d[2])\n",
    "\n",
    "        \n",
    "        #========================================\n",
    "        # Prepating to move to next control node\n",
    "        #========================================\n",
    "        \n",
    "        # Update time and control torque and print progress\n",
    "        control_torque = np.array([roll_moment, pitch_moment, yaw_moment])\n",
    "        time = time + dt_control\n",
    "        print(\"Progress = \", time*100/termination_time, \"%\", end=\"\\r\")\n",
    "        \n",
    "    return state_history, state_history_m"
   ]
  },
  {
   "cell_type": "code",
   "execution_count": 9,
   "id": "80bd1d9d-755c-41c1-8ab7-bc243e1e36bb",
   "metadata": {},
   "outputs": [
    {
     "name": "stdout",
     "output_type": "stream",
     "text": [
      "Progress =  100.04363668124266 % 10.139557771747567 % 20.11012291396601 %\r"
     ]
    }
   ],
   "source": [
    "# https://en.wikipedia.org/wiki/Ziegler%E2%80%93Nichols_method\n",
    "# Ziegler-Nichols method \n",
    "Ku1 = 15\n",
    "Kt1 = 87\n",
    "\n",
    "Ku2 =  15\n",
    "Kt2  = 81\n",
    "\n",
    "Ku3 = 15\n",
    "Kt3 = 90\n",
    "\n",
    "# # Trial\n",
    "# state_history = simulate(termination_time = 100, \n",
    "#             dt_control = 2,\n",
    "#             p = [15, 15, 15],\n",
    "#             i = [0, 0, 0],\n",
    "#             d = [0, 0, 0])\n",
    "\n",
    "# PD \n",
    "state_history = simulate_attitude(termination_time = period, \n",
    "            dt_control = 10,\n",
    "            p = [0.8*Ku1, 0.8 * Ku2, 0.8 * Ku3],\n",
    "            i = [0, 0, 0],\n",
    "            d = [1.5 * 0.1 * Kt1 * Ku1, 1.5 * 0.1 * Kt2 * Ku2, 1.5 *  0.1 * Kt3 * Ku3])\n",
    "\n",
    "# # PID\n",
    "# state_history = simulate_attitude(termination_time = 3 * period, \n",
    "#             dt_control = 10,\n",
    "#             p = [0, 0.6 * Ku, 0],\n",
    "#             i = [0, 1.2 * Ku/Kt, 0],\n",
    "#             d = [0, 0.075 * Ku * Kt, 0])"
   ]
  },
  {
   "cell_type": "code",
   "execution_count": 13,
   "id": "775168e0-9b07-40ce-bbcb-558f21a3b0fa",
   "metadata": {},
   "outputs": [
    {
     "data": {
      "image/png": "[encoded data removed]",
      "text/plain": [
       "<Figure size 936x432 with 6 Axes>"
      ]
     },
     "metadata": {
      "needs_background": "light"
     },
     "output_type": "display_data"
    }
   ],
   "source": [
    "labels = [r\"$\\theta_1$ [deg]\", r\"$\\theta_2$ [deg]\", r\"$\\theta_3$ [deg]\",\n",
    "          \"$\\omega_1$ [deg/s]\", \"$\\omega_2$ [deg/s]\", \"$\\omega_3$ [deg/s]\"]\n",
    "\n",
    "fig, axes = plt.subplots(3, 2, figsize = (13, 6))\n",
    "fig.tight_layout(pad=4)\n",
    "fig.suptitle(\"Spacecraft in a 700 km, circular orbit (period = %.i s)\" % period, fontsize = 25, y = 1.02)\n",
    "fig.subplots_adjust(hspace=0)\n",
    "axes[2, 0].set_xlabel(\"Time (s)\", fontsize = 18)\n",
    "axes[2, 1].set_xlabel(\"Time (s)\", fontsize = 18)\n",
    "\n",
    "for ax in axes[:,0]:\n",
    "    ax.set_xlim(0, 200)\n",
    "    ax.set_ylim(-5, 6)\n",
    "\n",
    "    ax.set_xlim(0, 200)\n",
    "    ax.set_ylim(-0.1, 0.1)\n",
    "\n",
    "for i, ax in enumerate(axes.T.flat): \n",
    "    \n",
    "    ax.plot(state_history[:,0], np.rad2deg(state_history[:,1+i]), 'ro', markersize = 3)\n",
    "    ax.set_ylabel(labels[i], fontsize = 18) \n",
    "    #ax.axvline(81)\n",
    "    for axis in ['top','bottom','left','right']:\n",
    "        ax.spines[axis].set_linewidth(2)\n",
    "    ax.tick_params(labelsize=13)\n",
    "    ax.tick_params(axis=\"both\",direction=\"in\",which=\"both\", length=4, width = 2)\n",
    "    ax.tick_params(bottom=True, top=True, left=True, right=True)"
   ]
  },
  {
   "cell_type": "markdown",
   "id": "38bf8365-dae6-4737-96dc-22943ae5f1f9",
   "metadata": {},
   "source": [
    "##### print(2*np.std(np.rad2deg(state_history[:,2])))"
   ]
  },
  {
   "cell_type": "code",
   "execution_count": 14,
   "id": "8dabf1c5-0ab7-4dcf-bdca-b0295e91ff80",
   "metadata": {},
   "outputs": [
    {
     "name": "stdout",
     "output_type": "stream",
     "text": [
      "[[ 0.00000000e+00  8.72664626e-02  8.72664626e-02 ...  0.00000000e+00\n",
      "   0.00000000e+00  0.00000000e+00]\n",
      " [ 1.90488044e-02  8.72682323e-02  8.72866120e-02 ...  8.49441100e-09\n",
      "   9.00905088e-09  6.41461642e-09]\n",
      " [ 2.09536849e-01  8.72859387e-02  8.74881144e-02 ...  9.34398309e-08\n",
      "   9.91086904e-08  7.05616704e-08]\n",
      " ...\n",
      " [ 5.91011110e+03  8.33552612e-05  8.33403803e-05 ... -8.84876598e-08\n",
      "  -1.06181200e-03  8.85002422e-08]\n",
      " [ 5.91111110e+03  8.33552612e-05  8.33403803e-05 ... -8.84876598e-08\n",
      "  -1.06181200e-03  8.85002422e-08]\n",
      " [ 5.92000000e+03  8.33552612e-05  8.33403803e-05 ... -8.84876598e-08\n",
      "  -1.06181200e-03  8.85002422e-08]]\n"
     ]
    }
   ],
   "source": [
    "print(state_history)"
   ]
  },
  {
   "cell_type": "code",
   "execution_count": null,
   "id": "e68d133b-3c77-4a3d-ad32-55c0d82b543e",
   "metadata": {},
   "outputs": [],
   "source": []
  }
 ],
 "metadata": {
  "kernelspec": {
   "display_name": "Python [conda env:root] *",
   "language": "python",
   "name": "conda-root-py"
  },
  "language_info": {
   "codemirror_mode": {
    "name": "ipython",
    "version": 3
   },
   "file_extension": ".py",
   "mimetype": "text/x-python",
   "name": "python",
   "nbconvert_exporter": "python",
   "pygments_lexer": "ipython3",
   "version": "3.8.12"
  }
 },
 "nbformat": 4,
 "nbformat_minor": 5
}
